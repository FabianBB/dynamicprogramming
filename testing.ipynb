{
 "cells": [
  {
   "cell_type": "code",
   "execution_count": 10,
   "metadata": {
    "collapsed": true
   },
   "outputs": [],
   "source": [
    "import networkx as nx\n",
    "\n",
    "from collections import deque\n",
    "from itertools import product\n",
    "import time\n"
   ]
  },
  {
   "cell_type": "markdown",
   "source": [
    "# 1 Background\n",
    "During the last lockdown, tough social distancing regulations were put in place. This was particularly difficult for\n",
    "students at the Tongersestraat 53. With a combination of one-way staircases and hallways, the building became even\n",
    "harder to navigate than it already was. We hope it won’t be needed, but just in case and to be prepared, you’re asked\n",
    "to create a program to help confused students safely find their way around the building!\n",
    "# 2 Problem Statement\n",
    "Given is an undirected graph G = (V, E) together with a minimum distance D, maximum time T and two players a, b\n",
    "that have starting points sa, sb and target points ta, tb respectively.\n",
    "We wish to find two Socially Distant Paths for the two players to walk. The players walk at equal speeds in the\n",
    "unweighted graph (one edge per unit of time) and both start walking at t = 0. The path are considered Socially\n",
    "Distant Paths if at no point in time the players come within distance D (or less) of each other. I.e., if the paths are\n",
    "given as sequences of vertices pa,1, pa,2, . . . , pa,k and pb,1, pb,2, . . . , pb,k the paths are Socially Distant Paths if and only\n",
    "if the graph distance between pa,i and pb,i is more than D for all i. E.g., D = 1 indicates the players may never be on\n",
    "adjacent vertices, D = 2 means they cannot be on two vertices that share a common neighbour, etc...\n",
    "The path for player a must start at sa and end at ta (so pa,1 = sa and pa,k = ta) and similarly, the path for player b\n",
    "must start at sb and end at tb (so pb,1 = sb and pb,k = tb).\n",
    "The possible actions for each player at any time step is to move one edge, or remain in place at the current vertex.\n",
    "The players move simultaneously, so if one player a moves from a1 to a2 and player b moves from b1 to b2, it is only\n",
    "required that the distance between a1 and b1 and that between a2 and b2 is large enough; a1 and b2 (and a2 and b1)\n",
    "can possibly be closer to each other.\n",
    "The goal is to minimize the time at which both players have arrived at their respective target vertices, that is, to\n",
    "minimize k. Because the players are in a hurry, k must be at most T . If there is no solution with k ≤ T , report that\n",
    "this is the case."
   ],
   "metadata": {
    "collapsed": false
   }
  },
  {
   "cell_type": "code",
   "execution_count": 11,
   "outputs": [],
   "source": [
    "# read in file case0.in\n",
    "# the format is as follows:\n",
    "# First line: number of nodes, number of edges, T, D\n",
    "# second line: s1, t1, s2, t2\n",
    "# following lines contain pairs of integers, representing undirected edges between vertex i and vertex j\n"
   ],
   "metadata": {
    "collapsed": false
   }
  },
  {
   "cell_type": "code",
   "execution_count": 12,
   "outputs": [],
   "source": [
    "class Instance:\n",
    "\n",
    "    def __init__(self, n, m, T, D, name: str):\n",
    "        self.n = n\n",
    "        self.m = m\n",
    "        self.T = T\n",
    "        self.D = D\n",
    "        self.name = name\n",
    "        self.s1 = 0\n",
    "        self.t1 = 0\n",
    "        self.s2 = 0\n",
    "        self.t2 = 0\n",
    "        self.G = nx.Graph()\n",
    "\n",
    "\n",
    "    def read(self, filename: str):\n",
    "        with open(\"testcases/\"+ filename, \"r\") as f:\n",
    "            # get n,m,D,T from first line and cast to int\n",
    "            self.n, self.m, self.T, self.D = map(int, f.readline().split())\n",
    "            self.s1, self.t1, self.s2, self.t2 = map(int, f.readline().split())\n",
    "\n",
    "            # for the follwing lines set edges\n",
    "            for line in f:\n",
    "                u, v = map(int, line.split())\n",
    "                self.G.add_edge(u, v)\n",
    "                self.G.add_edge(v, u)\n",
    "\n",
    "\n",
    "\n",
    "    def is_distant(self, a, b, D):\n",
    "        # returns true if a and b have more than D distance between them\n",
    "        return nx.shortest_path_length(self.G, a, b) > D\n",
    "\n",
    "\n",
    "    def find_socially_distant_paths(self):\n",
    "        queue = deque([((self.s1, self.s2), 0, [])])  # ((position_a, position_b), time, paths)\n",
    "        visited = set(((self.s1, self.s2), 0))\n",
    "\n",
    "        while queue:\n",
    "            (current_a, current_b), time, paths = queue.popleft()\n",
    "            if time > self.T:\n",
    "                break\n",
    "            if current_a == self.t1 and current_b == self.t2:\n",
    "                return time, paths  # Found a solution\n",
    "\n",
    "            # Generate all possible next steps for both players\n",
    "            next_steps_a = list(self.G.neighbors(current_a)) + [current_a]\n",
    "            next_steps_b = list(self.G.neighbors(current_b)) + [current_b]\n",
    "\n",
    "            for next_a, next_b in product(next_steps_a, next_steps_b):\n",
    "                if self.is_distant(next_a, next_b, self.D):\n",
    "                    if ((next_a, next_b), time + 1) not in visited:\n",
    "                        visited.add(((next_a, next_b), time + 1))\n",
    "                        queue.append(((next_a, next_b), time + 1, paths + [(next_a, next_b)]))\n",
    "\n",
    "        return -1, []  # No solution found\n",
    "\n",
    "\n"
   ],
   "metadata": {
    "collapsed": false
   }
  },
  {
   "cell_type": "code",
   "execution_count": 13,
   "outputs": [],
   "source": [
    "file = \"case0.in\"\n",
    "i = Instance(0, 0, 0, 0, file)\n",
    "i.read(file)"
   ],
   "metadata": {
    "collapsed": false
   }
  },
  {
   "cell_type": "code",
   "execution_count": 14,
   "outputs": [
    {
     "name": "stdout",
     "output_type": "stream",
     "text": [
      "Time to reach the targets for both players is: 3\n",
      "Paths taken by both players: [(6, 7), (3, 2), (4, 7)]\n"
     ]
    }
   ],
   "source": [
    "time_to_reach, paths = i.find_socially_distant_paths()\n",
    "\n",
    "if time_to_reach == -1:\n",
    "    print(\"No solution with k ≤ T.\")\n",
    "else:\n",
    "    print(f\"Time to reach the targets for both players is: {time_to_reach}\")\n",
    "    print(f\"Paths taken by both players: {paths}\")\n"
   ],
   "metadata": {
    "collapsed": false
   }
  },
  {
   "cell_type": "code",
   "execution_count": 15,
   "outputs": [],
   "source": [
    "# method that times and creates appropriate output for a given file\n",
    "def run_paths(file: str):\n",
    "    i = Instance(0, 0, 0, 0, file)\n",
    "    i.read(file)\n",
    "    # time the function\n",
    "    start = time.time()\n",
    "    time_to_reach, paths = i.find_socially_distant_paths()\n",
    "    end = time.time()\n",
    "    soltime = end - start\n",
    "\n",
    "    if time_to_reach == -1:\n",
    "        print(i.T + 1)\n",
    "        print(soltime)\n",
    "    else:\n",
    "        print(time_to_reach) # time for both players to reach their targets\n",
    "        path1, path2 = zip(*paths)\n",
    "        # append initial positions to the first position of the arrays\n",
    "        path1 = [i.s1] + list(path1)\n",
    "        path2 = [i.s2] + list(path2)\n",
    "        print(\" \".join(map(str, path1)))\n",
    "        print(\" \".join(map(str, path2)))\n",
    "        print(soltime)\n"
   ],
   "metadata": {
    "collapsed": false
   }
  },
  {
   "cell_type": "markdown",
   "source": [
    "Pretty sure time complexity for this is $O(T * V^{3} * (V+E))$ so $O(V^4)$ basically, sounds horrible bruh"
   ],
   "metadata": {
    "collapsed": false
   }
  },
  {
   "cell_type": "code",
   "execution_count": 16,
   "outputs": [
    {
     "name": "stdout",
     "output_type": "stream",
     "text": [
      "9\n",
      "1 12 23 34 45 56 67 78 89 100\n",
      "10 19 28 37 46 55 64 73 82 91\n",
      "41.27196025848389\n"
     ]
    }
   ],
   "source": [
    "run_paths(\"grid10-0.in\")"
   ],
   "metadata": {
    "collapsed": false
   }
  },
  {
   "cell_type": "code",
   "execution_count": 17,
   "outputs": [
    {
     "data": {
      "text/plain": "<Figure size 640x480 with 1 Axes>",
      "image/png": "[encoded data removed]"
     },
     "metadata": {},
     "output_type": "display_data"
    }
   ],
   "source": [
    "nx.draw(i.G, with_labels=True, font_weight=\"bold\")"
   ],
   "metadata": {
    "collapsed": false
   }
  }
 ],
 "metadata": {
  "kernelspec": {
   "display_name": "Python 3",
   "language": "python",
   "name": "python3"
  },
  "language_info": {
   "codemirror_mode": {
    "name": "ipython",
    "version": 2
   },
   "file_extension": ".py",
   "mimetype": "text/x-python",
   "name": "python",
   "nbconvert_exporter": "python",
   "pygments_lexer": "ipython2",
   "version": "2.7.6"
  }
 },
 "nbformat": 4,
 "nbformat_minor": 0
}
